{
  "nbformat": 4,
  "nbformat_minor": 0,
  "metadata": {
    "colab": {
      "provenance": []
    },
    "kernelspec": {
      "name": "python3",
      "display_name": "Python 3"
    },
    "language_info": {
      "name": "python"
    }
  },
  "cells": [
    {
      "cell_type": "code",
      "execution_count": null,
      "metadata": {
        "colab": {
          "base_uri": "https://localhost:8080/"
        },
        "id": "jQEZ0_D2C4wh",
        "outputId": "a7d207e2-0d6b-45c8-b923-a30d60ef00e6"
      },
      "outputs": [
        {
          "output_type": "stream",
          "name": "stdout",
          "text": [
            "Mounted at /content/drive\n"
          ]
        }
      ],
      "source": [
        "from google.colab import drive\n",
        "drive.mount('/content/drive')"
      ]
    },
    {
      "cell_type": "code",
      "source": [
        "# 1 Создание Series из списка\n",
        "# Создайте Series из списка чисел [5, 15, 25, 35, 45]\n",
        "# с индексами ['a', 'b', 'c', 'd', 'e'] .\n",
        "# Выведите его на экран и определите его тип данных.\n",
        "\n",
        "import pandas as pd\n",
        "\n",
        "s = [5, 15, 25, 35, 45]\n",
        "index = ['a', 'b', 'c', 'd', 'e']\n",
        "series = pd.Series(s, index=index)\n",
        "\n",
        "print(series)\n",
        "print(series.dtype)"
      ],
      "metadata": {
        "colab": {
          "base_uri": "https://localhost:8080/"
        },
        "id": "dxRBmhWfDw68",
        "outputId": "4cd59cfa-9143-4935-f939-756e87f7d310"
      },
      "execution_count": null,
      "outputs": [
        {
          "output_type": "stream",
          "name": "stdout",
          "text": [
            "a     5\n",
            "b    15\n",
            "c    25\n",
            "d    35\n",
            "e    45\n",
            "dtype: int64\n",
            "int64\n"
          ]
        }
      ]
    },
    {
      "cell_type": "code",
      "source": [
        "# 2 Получение элемента Series\n",
        "# Дан Series с индексами ['A', 'B', 'C', 'D', 'E'] и значениями [12, 24, 36,\n",
        "# 48, 60] . Используйте .loc[] для получения элемента с индексом 'C' и\n",
        "# .iloc[] для получения третьего элемента.\n",
        "\n",
        "import pandas as pd\n",
        "\n",
        "s = [12, 24, 36, 48, 60]\n",
        "index = ['A', 'B', 'C', 'D', 'E']\n",
        "series = pd.Series(s, index=index)\n",
        "\n",
        "print(f\"Элемент с индексом 'C': {series.loc['C']}\")\n",
        "print(f\"Третий элемент: {series.iloc[2]}\")"
      ],
      "metadata": {
        "colab": {
          "base_uri": "https://localhost:8080/"
        },
        "id": "DkdMNzGhJfE-",
        "outputId": "372a3a45-93d1-4135-eaa5-f3d2963af2b3"
      },
      "execution_count": null,
      "outputs": [
        {
          "output_type": "stream",
          "name": "stdout",
          "text": [
            "Элемент с индексом 'C': 36\n",
            "Третий элемент: 36\n"
          ]
        }
      ]
    },
    {
      "cell_type": "code",
      "source": [
        "# 3 Фильтрация данных с помощью логической индексации\n",
        "# Создайте Series из массива NumPy np.array([4, 9, 16, 25, 36, 49, 64]) .\n",
        "# Выберите только те элементы, которые больше 20, и выведите результат.\n",
        "\n",
        "import pandas as pd\n",
        "import numpy as np\n",
        "\n",
        "a = np.array([4, 9, 16, 25, 36, 49, 64])\n",
        "s = pd.Series(a)\n",
        "\n",
        "s1 = s[s > 20]\n",
        "print(s1)"
      ],
      "metadata": {
        "colab": {
          "base_uri": "https://localhost:8080/"
        },
        "id": "WXa5ooluJDOA",
        "outputId": "9bc8a0e0-44f4-4092-8482-0b470895205c"
      },
      "execution_count": null,
      "outputs": [
        {
          "output_type": "stream",
          "name": "stdout",
          "text": [
            "3    25\n",
            "4    36\n",
            "5    49\n",
            "6    64\n",
            "dtype: int64\n"
          ]
        }
      ]
    },
    {
      "cell_type": "code",
      "source": [
        "# 4 Просмотр первых и последних элементов\n",
        "# Создайте Series , содержащий 50 случайных целых чисел от 1 до 100\n",
        "# (используйте np.random.randint ). Выведите первые 7 и последние 5 элементов с\n",
        "# помощью .head() и .tail() .\n",
        "\n",
        "import pandas as pd\n",
        "import numpy as np\n",
        "\n",
        "s = pd.Series(np.random.randint(1, 101, 50))\n",
        "\n",
        "print(\"Первые 7 элементов:\\n\", s.head(7))\n",
        "print(\"\\nПоследние 5 элементов:\\n\", s.tail(5))"
      ],
      "metadata": {
        "colab": {
          "base_uri": "https://localhost:8080/"
        },
        "id": "WEi5asM_Q-5H",
        "outputId": "ded90ba3-9af4-4f93-ca6f-55730d39a11e"
      },
      "execution_count": null,
      "outputs": [
        {
          "output_type": "stream",
          "name": "stdout",
          "text": [
            "Первые 7 элементов:\n",
            " 0    41\n",
            "1    28\n",
            "2    78\n",
            "3    58\n",
            "4    73\n",
            "5    92\n",
            "6     4\n",
            "dtype: int64\n",
            "\n",
            "Последние 5 элементов:\n",
            " 45    80\n",
            "46    23\n",
            "47    88\n",
            "48    11\n",
            "49    10\n",
            "dtype: int64\n"
          ]
        }
      ]
    },
    {
      "cell_type": "code",
      "source": [
        "# 5 Определение типа данных Series\n",
        "# Создайте Series из списка ['cat', 'dog', 'rabbit', 'parrot', 'fish'] .\n",
        "# Определите тип данных с помощью .dtype , затем преобразуйте его в category с\n",
        "# помощью .astype() .\n",
        "\n",
        "import pandas as pd\n",
        "\n",
        "data = ['cat', 'dog', 'rabbit', 'parrot', 'fish']\n",
        "s = pd.Series(data)\n",
        "print(\"Исходный тип данных:\", s.dtype)\n",
        "\n",
        "s = s.astype('category')\n",
        "print(\"Тип данных после преобразования:\\n\", s.dtype)\n",
        "print(\"Преобразованный Series:\\n\", s)"
      ],
      "metadata": {
        "colab": {
          "base_uri": "https://localhost:8080/"
        },
        "id": "O1KAZe4PQ_SY",
        "outputId": "b7ca6f8f-9818-4ee4-b735-c8e92b29a944"
      },
      "execution_count": null,
      "outputs": [
        {
          "output_type": "stream",
          "name": "stdout",
          "text": [
            "Исходный тип данных: object\n",
            "Тип данных после преобразования:\n",
            " category\n",
            "Преобразованный Series:\n",
            " 0       cat\n",
            "1       dog\n",
            "2    rabbit\n",
            "3    parrot\n",
            "4      fish\n",
            "dtype: category\n",
            "Categories (5, object): ['cat', 'dog', 'fish', 'parrot', 'rabbit']\n"
          ]
        }
      ]
    },
    {
      "cell_type": "code",
      "source": [
        "# 6 Проверка пропущенных значений\n",
        "# Создайте Series с данными [1.2, np.nan, 3.4, np.nan, 5.6, 6.8] . Напишите\n",
        "# код, который проверяет, есть ли в Series пропущенные значения ( NaN ), и\n",
        "# выведите индексы таких элементов.\n",
        "\n",
        "import pandas as pd\n",
        "import numpy as np\n",
        "\n",
        "data = [1.2, np.nan, 3.4, np.nan, 5.6, 6.8]\n",
        "s = pd.Series(data)\n",
        "\n",
        "null = s.isnull()\n",
        "nullind = null[null].index\n",
        "\n",
        "print(\"Индексы элементов с NaN:\", nullind)"
      ],
      "metadata": {
        "colab": {
          "base_uri": "https://localhost:8080/"
        },
        "id": "Qc2GUQoWQ_jY",
        "outputId": "96538210-7be2-4ec4-9666-94c8ea31460e"
      },
      "execution_count": null,
      "outputs": [
        {
          "output_type": "stream",
          "name": "stdout",
          "text": [
            "Индексы элементов с NaN: Index([1, 3], dtype='int64')\n"
          ]
        }
      ]
    },
    {
      "cell_type": "code",
      "source": [
        "# 7 Заполнение пропущенных значений\n",
        "# Используйте Series из предыдущего задания и замените все NaN на среднее\n",
        "# значение всех непустых элементов. Выведите результат.\n",
        "\n",
        "import pandas as pd\n",
        "import numpy as np\n",
        "\n",
        "data = [1.2, np.nan, 3.4, np.nan, 5.6, 6.8]\n",
        "s = pd.Series(data)\n",
        "\n",
        "mean = s.mean()\n",
        "s1 = series.fillna(mean)\n",
        "\n",
        "print(s1)"
      ],
      "metadata": {
        "colab": {
          "base_uri": "https://localhost:8080/"
        },
        "id": "lN2CFXPxQ_2m",
        "outputId": "3cdd23c1-e48e-4e73-c454-63b63f18ee29"
      },
      "execution_count": null,
      "outputs": [
        {
          "output_type": "stream",
          "name": "stdout",
          "text": [
            "0    1.20\n",
            "1    4.25\n",
            "2    3.40\n",
            "3    4.25\n",
            "4    5.60\n",
            "5    6.80\n",
            "dtype: float64\n"
          ]
        }
      ]
    },
    {
      "cell_type": "code",
      "source": [
        "# 8 Арифметические операции с Series\n",
        "# s1 = pd.Series([10, 20, 30, 40], index=['a', 'b', 'c', 'd'])\n",
        "# s2 = pd.Series([5, 15, 25, 35], index=['b', 'c', 'd', 'e'])\n",
        "# Выполните сложение s1 + s2 . Объясните, почему в результате появляются\n",
        "# NaN , и замените их на 0 .\n",
        "\n",
        "import pandas as pd\n",
        "\n",
        "s1 = pd.Series([10, 20, 30, 40], index=['a', 'b', 'c', 'd'])\n",
        "s2 = pd.Series([5, 15, 25, 35], index=['b', 'c', 'd', 'e'])\n",
        "\n",
        "s3 = s1 + s2\n",
        "print(\"Результат сложения:\\n\", s3)\n",
        "\n",
        "s4 = s3.fillna(0)\n",
        "print(\"\\nРезультат сложения:\\n\", s4)"
      ],
      "metadata": {
        "id": "xgDRuGxsRAXv",
        "colab": {
          "base_uri": "https://localhost:8080/"
        },
        "outputId": "a153d0bb-65ce-47cf-83a1-0e49649840eb"
      },
      "execution_count": null,
      "outputs": [
        {
          "output_type": "stream",
          "name": "stdout",
          "text": [
            "Результат сложения:\n",
            " a     NaN\n",
            "b    25.0\n",
            "c    45.0\n",
            "d    65.0\n",
            "e     NaN\n",
            "dtype: float64\n",
            "\n",
            "Результат сложения:\n",
            " a     0.0\n",
            "b    25.0\n",
            "c    45.0\n",
            "d    65.0\n",
            "e     0.0\n",
            "dtype: float64\n"
          ]
        }
      ]
    },
    {
      "cell_type": "code",
      "source": [
        "# 9 Применение функции к Series\n",
        "# Создайте Series из чисел [2, 4, 6, 8, 10] . Напишите код, который применяет\n",
        "# к каждому элементу функцию вычисления квадратного корня с помощью\n",
        "# .apply(np.sqrt) .\n",
        "\n",
        "import pandas as pd\n",
        "import numpy as np\n",
        "\n",
        "data = [2, 4, 6, 8, 10]\n",
        "s = pd.Series(data)\n",
        "\n",
        "sqrt_series = s.apply(np.sqrt)\n",
        "print(sqrt_series)"
      ],
      "metadata": {
        "id": "rMtTyfLLSBCD",
        "colab": {
          "base_uri": "https://localhost:8080/"
        },
        "outputId": "34592d61-b313-4939-fefe-bdc2642379e1"
      },
      "execution_count": null,
      "outputs": [
        {
          "output_type": "stream",
          "name": "stdout",
          "text": [
            "0    1.414214\n",
            "1    2.000000\n",
            "2    2.449490\n",
            "3    2.828427\n",
            "4    3.162278\n",
            "dtype: float64\n"
          ]
        }
      ]
    },
    {
      "cell_type": "code",
      "source": [
        "# 10 Основные статистические методы\n",
        "# Создайте Series из 20 случайных чисел от 50 до 150 (используйте\n",
        "# np.random.randint ). Найдите сумму, среднее, минимальное и максимальное\n",
        "# значение. Выведите также стандартное отклонение.\n",
        "\n",
        "import pandas as pd\n",
        "import numpy as np\n",
        "\n",
        "s = pd.Series(np.random.randint(50, 151, 20))\n",
        "\n",
        "sum = s.sum()\n",
        "mean = s.mean()\n",
        "min = s.min()\n",
        "max = s.max()\n",
        "std = s.std()\n",
        "\n",
        "print(\"Series случайных чисел:\\n\", s)\n",
        "print(\"+-+-+-+-\")\n",
        "print(\"Сумма:\", sum)\n",
        "print(\"Среднее:\", mean)\n",
        "print(\"Минимум:\", min)\n",
        "print(\"Максимум:\", max)\n",
        "print(\"Стандартное отклонение:\", std)"
      ],
      "metadata": {
        "id": "Uo2XU0srSBfA",
        "colab": {
          "base_uri": "https://localhost:8080/"
        },
        "outputId": "09e160bb-25c2-4fe5-b7e3-76611f9747ca"
      },
      "execution_count": null,
      "outputs": [
        {
          "output_type": "stream",
          "name": "stdout",
          "text": [
            "Series случайных чисел:\n",
            " 0      89\n",
            "1     144\n",
            "2     120\n",
            "3      70\n",
            "4      85\n",
            "5     112\n",
            "6      72\n",
            "7     146\n",
            "8     123\n",
            "9      87\n",
            "10     94\n",
            "11    120\n",
            "12    139\n",
            "13    113\n",
            "14    124\n",
            "15    141\n",
            "16    148\n",
            "17    132\n",
            "18    141\n",
            "19     57\n",
            "dtype: int64\n",
            "+-+-+-+-\n",
            "Сумма: 2257\n",
            "Среднее: 112.85\n",
            "Минимум: 57\n",
            "Максимум: 148\n",
            "Стандартное отклонение: 28.342408247415356\n"
          ]
        }
      ]
    },
    {
      "cell_type": "code",
      "source": [
        "# 11 Работа с временными рядами\n",
        "# Создайте Series , где индексами будут даты с 1 по 10 марта 2024 года\n",
        "# ( pd.date_range(start='2024-03-01', periods=10, freq='D') ), а значениями –\n",
        "# случайные числа от 10 до 100. Выберите данные за 5–8 марта.\n",
        "\n",
        "import pandas as pd\n",
        "import numpy as np\n",
        "\n",
        "dates = pd.date_range(start='2024-03-01', periods=10, freq='D')\n",
        "rand = np.random.randint(10, 101, 10)\n",
        "s = pd.Series(rand, index=dates)\n",
        "\n",
        "srez = s['2024-03-05':'2024-03-08']\n",
        "\n",
        "print(\"Исходный Series:\\n\", s)\n",
        "print(\"\\nДанные за 5-8 марта:\\n\", srez)"
      ],
      "metadata": {
        "id": "Zf71DT2oSB4v",
        "colab": {
          "base_uri": "https://localhost:8080/"
        },
        "outputId": "63d26f81-96f4-4e75-ff77-a56f9568a7df"
      },
      "execution_count": null,
      "outputs": [
        {
          "output_type": "stream",
          "name": "stdout",
          "text": [
            "Исходный Series:\n",
            " 2024-03-01    14\n",
            "2024-03-02    20\n",
            "2024-03-03    91\n",
            "2024-03-04    87\n",
            "2024-03-05    40\n",
            "2024-03-06    43\n",
            "2024-03-07    62\n",
            "2024-03-08    62\n",
            "2024-03-09    38\n",
            "2024-03-10    15\n",
            "Freq: D, dtype: int64\n",
            "\n",
            "Данные за 5-8 марта:\n",
            " 2024-03-05    40\n",
            "2024-03-06    43\n",
            "2024-03-07    62\n",
            "2024-03-08    62\n",
            "Freq: D, dtype: int64\n"
          ]
        }
      ]
    },
    {
      "cell_type": "code",
      "source": [
        "# 12 Проверка уникальности индексов\n",
        "# Создайте Series с индексами ['A', 'B', 'A', 'C', 'D', 'B'] и значениями\n",
        "# [10, 20, 30, 40, 50, 60] . Проверьте, являются ли индексы уникальными. Если\n",
        "# нет, сгруппируйте повторяющиеся индексы и сложите их значения.\n",
        "\n",
        "import pandas as pd\n",
        "\n",
        "index = ['A', 'B', 'A', 'C', 'D', 'B']\n",
        "data = [10, 20, 30, 40, 50, 60]\n",
        "s = pd.Series(data, index=index)\n",
        "\n",
        "flag = s.index.is_unique\n",
        "print(\"Индексы уникальны:\", flag)\n",
        "if not flag:\n",
        "    group = s.groupby(s.index).sum()\n",
        "    print(\"\\nSeries после группировки:\\n\", group)"
      ],
      "metadata": {
        "id": "rqZUab1pSCT6",
        "colab": {
          "base_uri": "https://localhost:8080/"
        },
        "outputId": "d71807e1-dba5-4b1d-aae7-001e72d65d80"
      },
      "execution_count": null,
      "outputs": [
        {
          "output_type": "stream",
          "name": "stdout",
          "text": [
            "Индексы уникальны: False\n",
            "\n",
            "Series после группировки:\n",
            " A    40\n",
            "B    80\n",
            "C    40\n",
            "D    50\n",
            "dtype: int64\n"
          ]
        }
      ]
    },
    {
      "cell_type": "code",
      "source": [
        "# 13 Преобразование строковых дат в DatetimeIndex\n",
        "# Создайте Series , где индексами будут строки ['2024-03-10', '2024-03-11',\n",
        "# '2024-03-12'] , а значениями [100, 200, 300] . Преобразуйте индексы в\n",
        "# DatetimeIndex и выведите тип данных индекса.\n",
        "\n",
        "import pandas as pd\n",
        "\n",
        "index = ['2024-03-10', '2024-03-11', '2024-03-12']\n",
        "data = [100, 200, 300]\n",
        "s = pd.Series(data, index=index)\n",
        "\n",
        "s.index = pd.to_datetime(s.index)\n",
        "\n",
        "print(\"Тип данных индекса:\", s.index.dtype)\n",
        "print(s)"
      ],
      "metadata": {
        "id": "M88rwLoqSCoE",
        "colab": {
          "base_uri": "https://localhost:8080/"
        },
        "outputId": "b7f33c20-6cff-4e61-b655-0e9269b03437"
      },
      "execution_count": null,
      "outputs": [
        {
          "output_type": "stream",
          "name": "stdout",
          "text": [
            "Тип данных индекса: datetime64[ns]\n",
            "2024-03-10    100\n",
            "2024-03-11    200\n",
            "2024-03-12    300\n",
            "dtype: int64\n"
          ]
        }
      ]
    },
    {
      "cell_type": "code",
      "source": [
        "# 14 Чтение данных из CSV-файла\n",
        "# Создайте CSV-файл data.csv со следующими данными:\n",
        "# Дата,Цена\n",
        "# 2024-03-01,100\n",
        "# 2024-03-02,110\n",
        "# 2024-03-03,105\n",
        "# 2024-03-04,120\n",
        "# 2024-03-05,115\n",
        "# Прочитайте файл и создайте Series , используя \"Дата\" в качестве индекса\n",
        "\n",
        "import pandas as pd\n",
        "\n",
        "data = {'Дата': ['2024-03-01', '2024-03-02', '2024-03-03', '2024-03-04', '2024-03-05'],\n",
        "        'Цена': [100, 110, 105, 120, 115]}\n",
        "df = pd.DataFrame(data)\n",
        "df.to_csv('data.csv', index=False)\n",
        "\n",
        "s = pd.read_csv('data.csv', index_col='Дата', parse_dates=True)\n",
        "\n",
        "print(s)\n",
        "print(\"\\nТип данных индекса:\", s.index.dtype)"
      ],
      "metadata": {
        "id": "m2UY-rdtSDC0",
        "colab": {
          "base_uri": "https://localhost:8080/"
        },
        "outputId": "c70e65b7-20f8-4b13-87f7-3374bab44b7b"
      },
      "execution_count": null,
      "outputs": [
        {
          "output_type": "stream",
          "name": "stdout",
          "text": [
            "            Цена\n",
            "Дата            \n",
            "2024-03-01   100\n",
            "2024-03-02   110\n",
            "2024-03-03   105\n",
            "2024-03-04   120\n",
            "2024-03-05   115\n",
            "\n",
            "Тип данных индекса: datetime64[ns]\n"
          ]
        }
      ]
    },
    {
      "cell_type": "code",
      "source": [
        "# 15 Построение графика на основе Series\n",
        "# Создайте Series , где индексами будут даты с 1 по 30 марта 2024 года, а\n",
        "# значениями – случайные числа от 50 до 150. Постройте график значений с\n",
        "# помощью matplotlib . Добавьте заголовок, подписи осей и сетку.\n",
        "\n",
        "import pandas as pd\n",
        "import numpy as np\n",
        "import matplotlib.pyplot as plt\n",
        "\n",
        "dates = pd.date_range('2024-03-01', '2024-03-30')\n",
        "\n",
        "rand = np.random.randint(50, 151, size=len(dates))\n",
        "data = pd.Series(rand, index=dates)\n",
        "\n",
        "plt.figure(figsize=(8, 6))\n",
        "plt.plot(data, marker='o', color='darkred')\n",
        "\n",
        "plt.title('Случайные значения с 1 по 30 марта', fontsize=14)\n",
        "plt.xlabel('Дата', fontsize=10)\n",
        "plt.ylabel('Значение', fontsize=10)\n",
        "\n",
        "\n",
        "plt.grid(True)\n",
        "\n",
        "plt.tight_layout()\n",
        "plt.show()"
      ],
      "metadata": {
        "id": "BT0ekweGSDTl",
        "colab": {
          "base_uri": "https://localhost:8080/",
          "height": 607
        },
        "outputId": "65681297-1ed7-41f5-e7db-fdb711c967fc"
      },
      "execution_count": null,
      "outputs": [
        {
          "output_type": "display_data",
          "data": {
            "text/plain": [
              "<Figure size 800x600 with 1 Axes>"
            ],
            "image/png": "[encoded data removed]"
          },
          "metadata": {}
        }
      ]
    },
    {
      "cell_type": "code",
      "source": [
        "# 1 Индивидуальное Вариант 6\n",
        "# Создайте CSV-файл sales.csv со следующими данными:\n",
        "# Дата,Продажи\n",
        "# 2024-07-01,120\n",
        "# 2024-07-02,150\n",
        "# 2024-07-03,170\n",
        "# 2024-07-04,160\n",
        "# 2024-07-05,180\n",
        "# Прочитайте данные, установите DatetimeIndex , найдите скользящее среднее\n",
        "# ( rolling(2).mean() ) и постройте два графика: реальных продаж и их сглаженного\n",
        "# значения.\n",
        "\n",
        "import pandas as pd\n",
        "import matplotlib.pyplot as plt\n",
        "\n",
        "data = {'Дата': ['2024-07-01', '2024-07-02', '2024-07-03', '2024-07-04', '2024-07-05'],\n",
        "        'Продажи': [120, 150, 170, 160, 180]}\n",
        "df_create = pd.DataFrame(data)\n",
        "df_create.to_csv('sales.csv', index=False)\n",
        "\n",
        "df = pd.read_csv('sales.csv', index_col='Дата', parse_dates=True)\n",
        "\n",
        "rmean = df['Продажи'].rolling(2).mean()\n",
        "\n",
        "plt.figure(figsize=(8, 6))\n",
        "plt.plot(df['Продажи'], label='Продажи')\n",
        "plt.plot(rmean, label='Скользящее среднее')\n",
        "\n",
        "plt.xlabel('Дата')\n",
        "plt.ylabel('Значение')\n",
        "plt.title('Продажи и скользящее среднее')\n",
        "\n",
        "plt.legend()\n",
        "plt.grid()\n",
        "\n",
        "plt.show()"
      ],
      "metadata": {
        "colab": {
          "base_uri": "https://localhost:8080/",
          "height": 564
        },
        "id": "ZE6uvrcSX0mX",
        "outputId": "b83e231a-ca99-4c53-bad3-01a27f50b780"
      },
      "execution_count": null,
      "outputs": [
        {
          "output_type": "display_data",
          "data": {
            "text/plain": [
              "<Figure size 800x600 with 1 Axes>"
            ],
            "image/png": "[encoded data removed]"
          },
          "metadata": {}
        }
      ]
    }
  ]
}